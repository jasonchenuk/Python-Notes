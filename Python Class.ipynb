{
 "cells": [
  {
   "cell_type": "code",
   "execution_count": 2,
   "id": "56ec46ff",
   "metadata": {},
   "outputs": [
    {
     "name": "stdout",
     "output_type": "stream",
     "text": [
      "name:　Jason Chen\n",
      "birthday (yyyy/mm/dd): 1963/12/17\n",
      "name:　Kuan Chen\n",
      "birthday (yyyy/mm/dd): 2002/07/15\n",
      "name:　\n",
      "{'Jason Chen': '1963/12/17', 'Kuan Chen': '2002/07/15'}\n"
     ]
    }
   ],
   "source": [
    "bdDict = dict()\n",
    "while True:\n",
    "    name = input(\"name:　\")\n",
    "    if name == \"\":  # If you don't type anything and just hit Enter, name == \"\" (an empty string)\n",
    "        break\n",
    "        \n",
    "    birthday = input(\"birthday (yyyy/mm/dd): \")\n",
    "    if birthday == \"\":\n",
    "        break\n",
    "        \n",
    "    bdDict[name] = birthday\n",
    "    \n",
    "print(bdDict)"
   ]
  },
  {
   "cell_type": "code",
   "execution_count": 3,
   "id": "d2eb3a54",
   "metadata": {},
   "outputs": [
    {
     "data": {
      "text/plain": [
       "2921218328176"
      ]
     },
     "execution_count": 3,
     "metadata": {},
     "output_type": "execute_result"
    }
   ],
   "source": [
    "id('')"
   ]
  },
  {
   "cell_type": "code",
   "execution_count": 4,
   "id": "38f597e1",
   "metadata": {},
   "outputs": [
    {
     "data": {
      "text/plain": [
       "2921295568448"
      ]
     },
     "execution_count": 4,
     "metadata": {},
     "output_type": "execute_result"
    }
   ],
   "source": [
    "id([])"
   ]
  },
  {
   "cell_type": "code",
   "execution_count": 7,
   "id": "e6541753",
   "metadata": {},
   "outputs": [
    {
     "name": "stdout",
     "output_type": "stream",
     "text": [
      "0\n"
     ]
    }
   ],
   "source": [
    "print(int())"
   ]
  },
  {
   "cell_type": "code",
   "execution_count": 8,
   "id": "b6c16184",
   "metadata": {},
   "outputs": [
    {
     "data": {
      "text/plain": [
       "['__abs__',\n",
       " '__add__',\n",
       " '__and__',\n",
       " '__bool__',\n",
       " '__ceil__',\n",
       " '__class__',\n",
       " '__delattr__',\n",
       " '__dir__',\n",
       " '__divmod__',\n",
       " '__doc__',\n",
       " '__eq__',\n",
       " '__float__',\n",
       " '__floor__',\n",
       " '__floordiv__',\n",
       " '__format__',\n",
       " '__ge__',\n",
       " '__getattribute__',\n",
       " '__getnewargs__',\n",
       " '__gt__',\n",
       " '__hash__',\n",
       " '__index__',\n",
       " '__init__',\n",
       " '__init_subclass__',\n",
       " '__int__',\n",
       " '__invert__',\n",
       " '__le__',\n",
       " '__lshift__',\n",
       " '__lt__',\n",
       " '__mod__',\n",
       " '__mul__',\n",
       " '__ne__',\n",
       " '__neg__',\n",
       " '__new__',\n",
       " '__or__',\n",
       " '__pos__',\n",
       " '__pow__',\n",
       " '__radd__',\n",
       " '__rand__',\n",
       " '__rdivmod__',\n",
       " '__reduce__',\n",
       " '__reduce_ex__',\n",
       " '__repr__',\n",
       " '__rfloordiv__',\n",
       " '__rlshift__',\n",
       " '__rmod__',\n",
       " '__rmul__',\n",
       " '__ror__',\n",
       " '__round__',\n",
       " '__rpow__',\n",
       " '__rrshift__',\n",
       " '__rshift__',\n",
       " '__rsub__',\n",
       " '__rtruediv__',\n",
       " '__rxor__',\n",
       " '__setattr__',\n",
       " '__sizeof__',\n",
       " '__str__',\n",
       " '__sub__',\n",
       " '__subclasshook__',\n",
       " '__truediv__',\n",
       " '__trunc__',\n",
       " '__xor__',\n",
       " 'as_integer_ratio',\n",
       " 'bit_length',\n",
       " 'conjugate',\n",
       " 'denominator',\n",
       " 'from_bytes',\n",
       " 'imag',\n",
       " 'numerator',\n",
       " 'real',\n",
       " 'to_bytes']"
      ]
     },
     "execution_count": 8,
     "metadata": {},
     "output_type": "execute_result"
    }
   ],
   "source": [
    "dir(0)"
   ]
  },
  {
   "cell_type": "code",
   "execution_count": 22,
   "id": "4e894f05",
   "metadata": {},
   "outputs": [
    {
     "data": {
      "text/plain": [
       "19"
      ]
     },
     "execution_count": 22,
     "metadata": {},
     "output_type": "execute_result"
    }
   ],
   "source": [
    "a = -19\n",
    "a.__abs__()"
   ]
  },
  {
   "cell_type": "code",
   "execution_count": 23,
   "id": "73e846dc",
   "metadata": {},
   "outputs": [
    {
     "data": {
      "text/plain": [
       "2"
      ]
     },
     "execution_count": 23,
     "metadata": {},
     "output_type": "execute_result"
    }
   ],
   "source": [
    "a = [1, 2, 3]\n",
    "a.pop(1)"
   ]
  },
  {
   "cell_type": "code",
   "execution_count": 24,
   "id": "77f1e34e",
   "metadata": {},
   "outputs": [
    {
     "data": {
      "text/plain": [
       "[1, 3]"
      ]
     },
     "execution_count": 24,
     "metadata": {},
     "output_type": "execute_result"
    }
   ],
   "source": [
    "a"
   ]
  },
  {
   "cell_type": "code",
   "execution_count": 25,
   "id": "b5563943",
   "metadata": {},
   "outputs": [
    {
     "data": {
      "text/plain": [
       "2"
      ]
     },
     "execution_count": 25,
     "metadata": {},
     "output_type": "execute_result"
    }
   ],
   "source": [
    "[1, 2, 3].pop(1)"
   ]
  },
  {
   "cell_type": "code",
   "execution_count": 30,
   "id": "d90ef2e6",
   "metadata": {},
   "outputs": [
    {
     "data": {
      "text/plain": [
       "1"
      ]
     },
     "execution_count": 30,
     "metadata": {},
     "output_type": "execute_result"
    }
   ],
   "source": [
    "a = 1.4\n",
    "a.__round__()"
   ]
  },
  {
   "cell_type": "code",
   "execution_count": 33,
   "id": "68394cd5",
   "metadata": {},
   "outputs": [
    {
     "data": {
      "text/plain": [
       "1"
      ]
     },
     "execution_count": 33,
     "metadata": {},
     "output_type": "execute_result"
    }
   ],
   "source": [
    "1.4.__round__()"
   ]
  },
  {
   "cell_type": "code",
   "execution_count": 34,
   "id": "055d6f37",
   "metadata": {},
   "outputs": [],
   "source": [
    "class Date:\n",
    "    pass"
   ]
  },
  {
   "cell_type": "code",
   "execution_count": 35,
   "id": "eca874eb",
   "metadata": {},
   "outputs": [],
   "source": [
    "d = Date()"
   ]
  },
  {
   "cell_type": "code",
   "execution_count": 36,
   "id": "fda157b0",
   "metadata": {},
   "outputs": [
    {
     "data": {
      "text/plain": [
       "__main__.Date"
      ]
     },
     "execution_count": 36,
     "metadata": {},
     "output_type": "execute_result"
    }
   ],
   "source": [
    "type(d)"
   ]
  },
  {
   "cell_type": "code",
   "execution_count": 37,
   "id": "47178621",
   "metadata": {},
   "outputs": [],
   "source": [
    "d.month = 12\n",
    "d.day = 30"
   ]
  },
  {
   "cell_type": "code",
   "execution_count": 39,
   "id": "3c2de154",
   "metadata": {},
   "outputs": [
    {
     "data": {
      "text/plain": [
       "12"
      ]
     },
     "execution_count": 39,
     "metadata": {},
     "output_type": "execute_result"
    }
   ],
   "source": [
    "d.month"
   ]
  },
  {
   "cell_type": "code",
   "execution_count": 41,
   "id": "55b6f611",
   "metadata": {},
   "outputs": [],
   "source": [
    "a = Date()\n",
    "a.chen = 5"
   ]
  },
  {
   "cell_type": "code",
   "execution_count": 42,
   "id": "a785ecd0",
   "metadata": {},
   "outputs": [
    {
     "ename": "NameError",
     "evalue": "name 'b' is not defined",
     "output_type": "error",
     "traceback": [
      "\u001b[1;31m---------------------------------------------------------------------------\u001b[0m",
      "\u001b[1;31mNameError\u001b[0m                                 Traceback (most recent call last)",
      "\u001b[1;32m~\\AppData\\Local\\Temp/ipykernel_24636/4093366871.py\u001b[0m in \u001b[0;36m<module>\u001b[1;34m\u001b[0m\n\u001b[1;32m----> 1\u001b[1;33m \u001b[0mb\u001b[0m\u001b[1;33m.\u001b[0m\u001b[0mjason\u001b[0m \u001b[1;33m=\u001b[0m \u001b[1;36m8\u001b[0m\u001b[1;33m\u001b[0m\u001b[1;33m\u001b[0m\u001b[0m\n\u001b[0m",
      "\u001b[1;31mNameError\u001b[0m: name 'b' is not defined"
     ]
    }
   ],
   "source": [
    "b.jason = 8"
   ]
  },
  {
   "cell_type": "code",
   "execution_count": 43,
   "id": "4c10bfcb",
   "metadata": {},
   "outputs": [
    {
     "ename": "NameError",
     "evalue": "name 'c' is not defined",
     "output_type": "error",
     "traceback": [
      "\u001b[1;31m---------------------------------------------------------------------------\u001b[0m",
      "\u001b[1;31mNameError\u001b[0m                                 Traceback (most recent call last)",
      "\u001b[1;32m~\\AppData\\Local\\Temp/ipykernel_24636/2460640480.py\u001b[0m in \u001b[0;36m<module>\u001b[1;34m\u001b[0m\n\u001b[1;32m----> 1\u001b[1;33m \u001b[0mc\u001b[0m\u001b[1;33m.\u001b[0m\u001b[0mchen\u001b[0m \u001b[1;33m=\u001b[0m \u001b[1;36m5\u001b[0m\u001b[1;33m\u001b[0m\u001b[1;33m\u001b[0m\u001b[0m\n\u001b[0m",
      "\u001b[1;31mNameError\u001b[0m: name 'c' is not defined"
     ]
    }
   ],
   "source": [
    "c.chen = 5"
   ]
  },
  {
   "cell_type": "code",
   "execution_count": 45,
   "id": "c0cc9393",
   "metadata": {},
   "outputs": [],
   "source": [
    "dd = Date()\n",
    "dd.chen = 8"
   ]
  },
  {
   "cell_type": "code",
   "execution_count": 54,
   "id": "509dfe8e",
   "metadata": {},
   "outputs": [],
   "source": [
    "class Chen:\n",
    "    def __init__(self, month, day):\n",
    "        self.month = month\n",
    "        self.day = day\n",
    "\n",
    "jason = Chen(12, 30)"
   ]
  },
  {
   "cell_type": "code",
   "execution_count": 58,
   "id": "9f4eba9c",
   "metadata": {},
   "outputs": [
    {
     "data": {
      "text/plain": [
       "12"
      ]
     },
     "execution_count": 58,
     "metadata": {},
     "output_type": "execute_result"
    }
   ],
   "source": [
    "jason.month"
   ]
  },
  {
   "cell_type": "code",
   "execution_count": 59,
   "id": "7c48bebb",
   "metadata": {},
   "outputs": [
    {
     "data": {
      "text/plain": [
       "17"
      ]
     },
     "execution_count": 59,
     "metadata": {},
     "output_type": "execute_result"
    }
   ],
   "source": [
    "Chen(12, 17).day"
   ]
  },
  {
   "cell_type": "code",
   "execution_count": 60,
   "id": "214d9400",
   "metadata": {},
   "outputs": [
    {
     "name": "stdout",
     "output_type": "stream",
     "text": [
      "<__main__.Chen object at 0x000002A82AC8CE50>\n"
     ]
    }
   ],
   "source": [
    "print(Chen(12, 17))"
   ]
  },
  {
   "cell_type": "code",
   "execution_count": 61,
   "id": "6a028bf1",
   "metadata": {},
   "outputs": [
    {
     "ename": "AttributeError",
     "evalue": "'int' object has no attribute 'month'",
     "output_type": "error",
     "traceback": [
      "\u001b[1;31m---------------------------------------------------------------------------\u001b[0m",
      "\u001b[1;31mAttributeError\u001b[0m                            Traceback (most recent call last)",
      "\u001b[1;32m~\\AppData\\Local\\Temp/ipykernel_24636/959598473.py\u001b[0m in \u001b[0;36m<module>\u001b[1;34m\u001b[0m\n\u001b[0;32m      1\u001b[0m \u001b[0maa\u001b[0m \u001b[1;33m=\u001b[0m \u001b[1;36m8\u001b[0m\u001b[1;33m\u001b[0m\u001b[1;33m\u001b[0m\u001b[0m\n\u001b[1;32m----> 2\u001b[1;33m \u001b[0maa\u001b[0m\u001b[1;33m.\u001b[0m\u001b[0mmonth\u001b[0m \u001b[1;33m=\u001b[0m \u001b[1;36m12\u001b[0m\u001b[1;33m\u001b[0m\u001b[1;33m\u001b[0m\u001b[0m\n\u001b[0m",
      "\u001b[1;31mAttributeError\u001b[0m: 'int' object has no attribute 'month'"
     ]
    }
   ],
   "source": [
    "aa = 8\n",
    "aa.month = 12"
   ]
  },
  {
   "cell_type": "code",
   "execution_count": 62,
   "id": "14f0d481",
   "metadata": {},
   "outputs": [
    {
     "data": {
      "text/plain": [
       "__main__.Chen"
      ]
     },
     "execution_count": 62,
     "metadata": {},
     "output_type": "execute_result"
    }
   ],
   "source": [
    "Chen"
   ]
  },
  {
   "cell_type": "code",
   "execution_count": 63,
   "id": "7ac209fd",
   "metadata": {},
   "outputs": [
    {
     "name": "stdout",
     "output_type": "stream",
     "text": [
      "<class '__main__.Chen'>\n"
     ]
    }
   ],
   "source": [
    "print(Chen)"
   ]
  },
  {
   "cell_type": "code",
   "execution_count": 64,
   "id": "45520474",
   "metadata": {},
   "outputs": [
    {
     "data": {
      "text/plain": [
       "<__main__.Chen at 0x2a82ac8c4c0>"
      ]
     },
     "execution_count": 64,
     "metadata": {},
     "output_type": "execute_result"
    }
   ],
   "source": [
    "jason"
   ]
  },
  {
   "cell_type": "code",
   "execution_count": 68,
   "id": "a43605e5",
   "metadata": {},
   "outputs": [
    {
     "data": {
      "text/plain": [
       "2"
      ]
     },
     "execution_count": 68,
     "metadata": {},
     "output_type": "execute_result"
    }
   ],
   "source": [
    "(-2).__abs__()"
   ]
  },
  {
   "cell_type": "markdown",
   "id": "65f56ea5",
   "metadata": {},
   "source": [
    "## The code above is just for testing. The code below is the content."
   ]
  },
  {
   "cell_type": "code",
   "execution_count": 69,
   "id": "25df9e7a",
   "metadata": {},
   "outputs": [],
   "source": [
    "class Date:\n",
    "    def isValidDate(self):\n",
    "        if((1 <= self.year <= 3000) and (1 <= self.month <= 12)):\n",
    "            daysInMonth = [31,28,31,30,31,30,31,31,30,31,30,31]\n",
    "        if(isLeap(self.year) == True):\n",
    "            daysInMonth[1] = 29\n",
    "        if(1 <= self.day <= daysInMonth[self.month -1]):\n",
    "            return True\n",
    "        return False\n",
    "\n",
    "# We define a function isValidDate() inside the class Date\n",
    "# An instance function's first parameter is always the ivoking object itself. Through this parameter, we access the\n",
    "#   invoking object's instance variables and instance functions.\n",
    "# It does not need to be named as self."
   ]
  },
  {
   "cell_type": "code",
   "execution_count": 70,
   "id": "881da585",
   "metadata": {},
   "outputs": [],
   "source": [
    "class Date:\n",
    "    def isValidDate(self):\n",
    "        if((1 <= self.year <= 3000) and (1 <= self.month <= 12)):\n",
    "            daysInMonth = [31,28,31,30,31,30,31,31,30,31,30,31]\n",
    "        if(isLeap(self.year) == True):\n",
    "            daysInMonth[1] = 29\n",
    "        if(1 <= self.day <= daysInMonth[self.month -1]):\n",
    "            return True\n",
    "        return False\n",
    "    \n",
    "    def toString(self):\n",
    "        return str(self.year) + \"/\" + str(self.month) + \"/\" + str(self.day)\n",
    "\n",
    "# We define a function isValidDate() inside the class Date\n",
    "# An instance function's first parameter is always the ivoking object itself. Through this parameter, we access the\n",
    "#   invoking object's instance variables and instance functions.\n",
    "# It does not need to be named as self."
   ]
  },
  {
   "cell_type": "code",
   "execution_count": 71,
   "id": "b9cbd7ac",
   "metadata": {},
   "outputs": [],
   "source": [
    "class Date:\n",
    "    def isValidDate(self):\n",
    "        if((1 <= self.year <= 3000) and (1 <= self.month <= 12)):\n",
    "            daysInMonth = [31,28,31,30,31,30,31,31,30,31,30,31]\n",
    "        if(isLeap(self.year) == True):\n",
    "            daysInMonth[1] = 29\n",
    "        if(1 <= self.day <= daysInMonth[self.month -1]):\n",
    "            return True\n",
    "        return False\n",
    "    \n",
    "    def toString(self):\n",
    "        return str(self.year) + \"/\" + str(self.month) + \"/\" + str(self.day)\n",
    "\n",
    "def printBdayDict(bdDict):\n",
    "    for p in bdDict.key():\n",
    "        b = bdDict[p]\n",
    "        print(p + \" was bron at \" + b.toString())"
   ]
  },
  {
   "cell_type": "code",
   "execution_count": 72,
   "id": "3e056a52",
   "metadata": {},
   "outputs": [],
   "source": [
    "# Define a function that test if a year is a leap year.\n",
    "def isLeap(year):\n",
    "    if(year % 400 == 0):\n",
    "        return True\n",
    "    elif ((year % 4 == 0) and (year % 100 != 0)):\n",
    "        return True\n",
    "    else:\n",
    "        return False\n",
    "\n",
    "\n",
    "# Define a class with methodds. Note that the attributes of the object are not in here.\n",
    "class Date:\n",
    "    # check if year, month, day of the object are correct.\n",
    "    def isValidDate(self):\n",
    "        if((1 <= self.year <= 3000) and (1 <= self.month <= 12)):\n",
    "            daysInMonth = [31,28,31,30,31,30,31,31,30,31,30,31]\n",
    "        if(self.isLeap() == True):  # Note: this has been changed and different from the code above.\n",
    "            daysInMonth[1] = 29\n",
    "        if(1 <= self.day <= daysInMonth[self.month -1]):\n",
    "            return True\n",
    "        return False\n",
    "    \n",
    "    # convert the object into a string in a date format that you like.\n",
    "    def toString(self):\n",
    "        return str(self.year) + \"/\" + str(self.month) + \"/\" + str(self.day)\n",
    "    \n",
    "    # We include isLeap function as a method while we still keep it as a global function.\n",
    "    def isLeap(self):\n",
    "        return isLeap(self.year)\n",
    "    \n",
    "    \n",
    "# Define a function that prints out \n",
    "def printBdayDict(bdDict):\n",
    "    for p in bdDict.key():\n",
    "        b = bdDict[p]\n",
    "        print(p + \" was bron at \" + b.toString())"
   ]
  },
  {
   "cell_type": "code",
   "execution_count": 73,
   "id": "8e20b84d",
   "metadata": {},
   "outputs": [],
   "source": [
    "x = Date()"
   ]
  },
  {
   "cell_type": "code",
   "execution_count": 76,
   "id": "ac16be89",
   "metadata": {},
   "outputs": [
    {
     "data": {
      "text/plain": [
       "True"
      ]
     },
     "execution_count": 76,
     "metadata": {},
     "output_type": "execute_result"
    }
   ],
   "source": [
    "x.year = 1964\n",
    "x.month = 7\n",
    "x.day = 15\n",
    "x.isLeap()  # The parameter is the invoking object itself."
   ]
  },
  {
   "cell_type": "code",
   "execution_count": 7,
   "id": "347efe56",
   "metadata": {},
   "outputs": [
    {
     "name": "stdout",
     "output_type": "stream",
     "text": [
      "name: Amy\n",
      "birthday (yyyy/mm/dd): 1999/01/23\n",
      "name: Bob\n",
      "birthday (yyyy/mm/dd): 1998/12/10\n",
      "name: \n",
      "Amy was bron at 1999/1/23\n",
      "Bob was bron at 1998/12/10\n"
     ]
    }
   ],
   "source": [
    "# Define a function that test if a year is a leap year.\n",
    "def isLeap(year):\n",
    "    if(year % 400 == 0):\n",
    "        return True\n",
    "    elif ((year % 4 == 0) and (year % 100 != 0)):\n",
    "        return True\n",
    "    else:\n",
    "        return False\n",
    "\n",
    "    \n",
    "# Define a class with methodds. Note that the attributes of the object are not in here.\n",
    "class Date:\n",
    "    # check if year, month, day of the object are correct.\n",
    "    def isValidDate(self):\n",
    "        if((1 <= self.year <= 3000) and (1 <= self.month <= 12)):\n",
    "            daysInMonth = [31,28,31,30,31,30,31,31,30,31,30,31]\n",
    "        if(self.isLeap() == True):  # Note: this has been changed and different from the code above.\n",
    "            daysInMonth[1] = 29\n",
    "        if(1 <= self.day <= daysInMonth[self.month -1]):\n",
    "            return True\n",
    "        return False\n",
    "    \n",
    "    # convert the object into a string in a date format that you like.\n",
    "    def toString(self):\n",
    "        return str(self.year) + \"/\" + str(self.month) + \"/\" + str(self.day)\n",
    "    \n",
    "    # We include isLeap function as a method while we still keep it as a global function.\n",
    "    def isLeap(self):\n",
    "        return isLeap(self.year)\n",
    "\n",
    "\n",
    "    \n",
    "    \n",
    "# Define a function that prints out \n",
    "def printBdayDict(bdDict):\n",
    "    for p in bdDict.keys():\n",
    "        b = bdDict[p]\n",
    "        print(p + \" was bron at \" + b.toString())\n",
    "        \n",
    "\n",
    "# You will input a string of birthday. \n",
    "# You create an Date() object and convert the birthday into 3 integers. You create attributes of the object.\n",
    "def strToDate(birthday):  # birthday is a yyyy/mm/dd string\n",
    "    year, month, day = birthday.split(\"/\")\n",
    "    d = Date()\n",
    "    d.year = int(year)\n",
    "    d.month = int(month)\n",
    "    d.day = int(day)\n",
    "    return d\n",
    "\n",
    "    \n",
    "# This is the main program: input names and birthdays and store them in a dictionary.\n",
    "bdDict = dict()\n",
    "\n",
    "while True:\n",
    "    name = input(\"name: \")\n",
    "    if name == \"\":\n",
    "        break\n",
    "        \n",
    "    birthday = input(\"birthday (yyyy/mm/dd): \")\n",
    "    birthday = strToDate(birthday)\n",
    "  \n",
    "    if birthday.isValidDate() == True:\n",
    "        bdDict[name] = birthday\n",
    "    else:\n",
    "        print(\"bad date!\")\n",
    "        \n",
    "    if birthday == \"\":  # Jason thinks this is redundent.\n",
    "        break\n",
    "\n",
    "printBdayDict(bdDict)"
   ]
  },
  {
   "cell_type": "code",
   "execution_count": 30,
   "id": "e245dd38",
   "metadata": {},
   "outputs": [
    {
     "name": "stdout",
     "output_type": "stream",
     "text": [
      "True\n",
      "1999/1/23\n"
     ]
    }
   ],
   "source": [
    "a = Date()\n",
    "a.year = 1999\n",
    "a.month = 1\n",
    "a.day = 23\n",
    "print(a.isValidDate())\n",
    "print(a.toString())"
   ]
  },
  {
   "cell_type": "code",
   "execution_count": 3,
   "id": "31b69c6f",
   "metadata": {},
   "outputs": [
    {
     "data": {
      "text/plain": [
       "['2002', '7', '15']"
      ]
     },
     "execution_count": 3,
     "metadata": {},
     "output_type": "execute_result"
    }
   ],
   "source": [
    "\"2002/7/15\".split(\"/\")"
   ]
  },
  {
   "cell_type": "code",
   "execution_count": 4,
   "id": "ed718700",
   "metadata": {},
   "outputs": [
    {
     "name": "stdout",
     "output_type": "stream",
     "text": [
      "2002\n",
      "7\n",
      "15\n"
     ]
    }
   ],
   "source": [
    "a, b, c = \"2002/7/15\".split(\"/\")\n",
    "print(a)\n",
    "print(b)\n",
    "print(c)"
   ]
  },
  {
   "cell_type": "code",
   "execution_count": 5,
   "id": "d4054a92",
   "metadata": {},
   "outputs": [
    {
     "name": "stdout",
     "output_type": "stream",
     "text": [
      "4\n",
      "5\n",
      "6\n"
     ]
    }
   ],
   "source": [
    "a, b, c = [4,5,6]\n",
    "print(a)\n",
    "print(b)\n",
    "print(c)"
   ]
  },
  {
   "cell_type": "markdown",
   "id": "78345d41",
   "metadata": {},
   "source": [
    "## Instance functions with more parameters"
   ]
  },
  {
   "cell_type": "code",
   "execution_count": 10,
   "id": "d2a7c042",
   "metadata": {},
   "outputs": [
    {
     "data": {
      "text/plain": [
       "True"
      ]
     },
     "execution_count": 10,
     "metadata": {},
     "output_type": "execute_result"
    }
   ],
   "source": [
    "class Date:\n",
    "    def isLaterThan(self, aDate):\n",
    "        if self.year > aDate.year:\n",
    "            return True\n",
    "        elif self.year == aDate.year:\n",
    "            if self.month > aDate.month:\n",
    "                return True\n",
    "            elif self.month == aDate.month:\n",
    "                if self.day > aDate.day:\n",
    "                    return True\n",
    "        return False\n",
    "\n",
    "a = Date()\n",
    "a.year = 1963\n",
    "a.month = 12\n",
    "a.day = 17\n",
    "\n",
    "b = Date()\n",
    "b.year = 2002\n",
    "b.month = 12\n",
    "b.day = 17\n",
    "\n",
    "b.isLaterThan(a)"
   ]
  },
  {
   "cell_type": "markdown",
   "id": "6a694f3b",
   "metadata": {},
   "source": [
    "## Instance function: init()\n",
    "### Let's write a member function that initializes member variables based on input arguments"
   ]
  },
  {
   "cell_type": "code",
   "execution_count": 17,
   "id": "d6d1c0a8",
   "metadata": {},
   "outputs": [],
   "source": [
    "class Date:\n",
    "    # others omitted\n",
    "    def init(self, year, month, day): # 1st parameter is always the invoking object itself.\n",
    "        self.year = year\n",
    "        self.month = month\n",
    "        self.day = day\n",
    "\n",
    "d = Date()\n",
    "d.init(2018, 4, 5)"
   ]
  },
  {
   "cell_type": "code",
   "execution_count": 18,
   "id": "6d25e098",
   "metadata": {},
   "outputs": [
    {
     "name": "stdout",
     "output_type": "stream",
     "text": [
      "2002\n"
     ]
    }
   ],
   "source": [
    "dd = Date()\n",
    "dd.year = 2002\n",
    "print(dd.year)"
   ]
  },
  {
   "cell_type": "code",
   "execution_count": 12,
   "id": "4566dbb9",
   "metadata": {},
   "outputs": [
    {
     "data": {
      "text/plain": [
       "4"
      ]
     },
     "execution_count": 12,
     "metadata": {},
     "output_type": "execute_result"
    }
   ],
   "source": [
    "d.month"
   ]
  },
  {
   "cell_type": "markdown",
   "id": "5b37dcf1",
   "metadata": {},
   "source": [
    "### Constructor: \\__init\\__()"
   ]
  },
  {
   "cell_type": "markdown",
   "id": "46af1692",
   "metadata": {},
   "source": [
    "* Even though we have defined init(), we cannot force ourself to invoke it. Thus, it's easy to make mistakes. To resolve this issue, Python (and many other languages) allows us to define a constructor for a class.\n",
    "* In Python, it is a member function called \\___init\\___()\n",
    "* It is automatically invvoked when an object is created.\n",
    "* The correct number of arguments must be prepared when creating an object of the class"
   ]
  },
  {
   "cell_type": "code",
   "execution_count": 19,
   "id": "dcd582f6",
   "metadata": {},
   "outputs": [],
   "source": [
    "class Date:\n",
    "    # others omitted\n",
    "    def __init__(self, year, month, day): # 1st parameter is always the invoking object itself.\n",
    "        self.year = year\n",
    "        self.month = month\n",
    "        self.day = day\n",
    "\n",
    "d = Date(2018, 4, 5)"
   ]
  },
  {
   "cell_type": "code",
   "execution_count": 20,
   "id": "c64196ac",
   "metadata": {},
   "outputs": [
    {
     "data": {
      "text/plain": [
       "2018"
      ]
     },
     "execution_count": 20,
     "metadata": {},
     "output_type": "execute_result"
    }
   ],
   "source": [
    "d.year"
   ]
  },
  {
   "cell_type": "code",
   "execution_count": 21,
   "id": "496dae99",
   "metadata": {},
   "outputs": [
    {
     "ename": "TypeError",
     "evalue": "__init__() missing 3 required positional arguments: 'year', 'month', and 'day'",
     "output_type": "error",
     "traceback": [
      "\u001b[1;31m---------------------------------------------------------------------------\u001b[0m",
      "\u001b[1;31mTypeError\u001b[0m                                 Traceback (most recent call last)",
      "\u001b[1;32m~\\AppData\\Local\\Temp/ipykernel_30680/3843901108.py\u001b[0m in \u001b[0;36m<module>\u001b[1;34m\u001b[0m\n\u001b[1;32m----> 1\u001b[1;33m \u001b[0md3\u001b[0m \u001b[1;33m=\u001b[0m \u001b[0mDate\u001b[0m\u001b[1;33m(\u001b[0m\u001b[1;33m)\u001b[0m\u001b[1;33m\u001b[0m\u001b[1;33m\u001b[0m\u001b[0m\n\u001b[0m",
      "\u001b[1;31mTypeError\u001b[0m: __init__() missing 3 required positional arguments: 'year', 'month', and 'day'"
     ]
    }
   ],
   "source": [
    "d3 = Date()"
   ]
  },
  {
   "cell_type": "code",
   "execution_count": 15,
   "id": "8c903a3d",
   "metadata": {},
   "outputs": [
    {
     "ename": "TypeError",
     "evalue": "__init__() missing 1 required positional argument: 'day'",
     "output_type": "error",
     "traceback": [
      "\u001b[1;31m---------------------------------------------------------------------------\u001b[0m",
      "\u001b[1;31mTypeError\u001b[0m                                 Traceback (most recent call last)",
      "\u001b[1;32m~\\AppData\\Local\\Temp/ipykernel_30680/1800017016.py\u001b[0m in \u001b[0;36m<module>\u001b[1;34m\u001b[0m\n\u001b[1;32m----> 1\u001b[1;33m \u001b[0md1\u001b[0m \u001b[1;33m=\u001b[0m \u001b[0mDate\u001b[0m\u001b[1;33m(\u001b[0m\u001b[1;36m2022\u001b[0m\u001b[1;33m,\u001b[0m \u001b[1;36m6\u001b[0m\u001b[1;33m)\u001b[0m\u001b[1;33m\u001b[0m\u001b[1;33m\u001b[0m\u001b[0m\n\u001b[0m",
      "\u001b[1;31mTypeError\u001b[0m: __init__() missing 1 required positional argument: 'day'"
     ]
    }
   ],
   "source": [
    "d1 = Date(2022, 6)"
   ]
  },
  {
   "cell_type": "markdown",
   "id": "5467252d",
   "metadata": {},
   "source": [
    "### 之前我們寫 d = Date() 其實我們再呼叫一個沒有 parameter 的 constructor to create a new object of the class. 如果我們像之前一樣定義一個 class (class Date:) 裡面甚麼都沒有 (沒有attributes, methods) 也是可以的, 當我們 d = Date(), 系統會幫我們create 一個空的object of the class. 一旦我們用了\\__init\\__() Python 就不會自動幫我們create 一個空的object of the class. 我們一定要依照\\__init\\__()來傳入正確的arguments."
   ]
  },
  {
   "cell_type": "code",
   "execution_count": 22,
   "id": "534503c6",
   "metadata": {},
   "outputs": [],
   "source": [
    "class Date:\n",
    "    pass\n",
    "\n",
    "d10 = Date()\n",
    "d10.year = 2002\n",
    "d10.month = 7\n",
    "\n",
    "d11 = Date()\n",
    "d11.day = 15\n",
    "d11.weekday = 'Mon'\n",
    "\n",
    "# We crate a class, Date. We define attributes outside of class Date:. Different objects of the same class can have\n",
    "# different attributes. This class is not as helpful. It still helps. For example, we still can pass the object to \n",
    "# a function and all the instance variables of the object can be used in the function as long as we define all the\n",
    "# instance variables (attributes) before passing the object in to the function."
   ]
  },
  {
   "cell_type": "markdown",
   "id": "cb61af08",
   "metadata": {},
   "source": [
    "### We also can write code to check if the arguments that are passed in are correct."
   ]
  },
  {
   "cell_type": "markdown",
   "id": "82579c56",
   "metadata": {},
   "source": [
    "### A Special Function: \\__str\\__()"
   ]
  },
  {
   "cell_type": "code",
   "execution_count": 25,
   "id": "253f6cbd",
   "metadata": {},
   "outputs": [
    {
     "name": "stdout",
     "output_type": "stream",
     "text": [
      "2018/4/5\n"
     ]
    }
   ],
   "source": [
    "class Date:\n",
    "    # others omitted\n",
    "    def __init__(self, year, month, day): # 1st parameter is always the invoking object itself.\n",
    "        self.year = year\n",
    "        self.month = month\n",
    "        self.day = day\n",
    "    \n",
    "    def toString(self):\n",
    "        return str(self.year) + \"/\" + str(self.month) + \"/\" + str(self.day)\n",
    "    \n",
    "    def __str__(self):\n",
    "        return self.toString() # You can return any string(s).\n",
    "\n",
    "d = Date(2018, 4, 5)\n",
    "print(d)"
   ]
  },
  {
   "cell_type": "code",
   "execution_count": 26,
   "id": "af4a53aa",
   "metadata": {},
   "outputs": [
    {
     "name": "stdout",
     "output_type": "stream",
     "text": [
      "God loves you.\n"
     ]
    }
   ],
   "source": [
    "class Date:\n",
    "    # others omitted\n",
    "    def __init__(self, year, month, day): # 1st parameter is always the invoking object itself.\n",
    "        self.year = year\n",
    "        self.month = month\n",
    "        self.day = day\n",
    "    \n",
    "    def toString(self):\n",
    "        return str(self.year) + \"/\" + str(self.month) + \"/\" + str(self.day)\n",
    "    \n",
    "    def __str__(self):\n",
    "        return \"God loves you.\" # You can return any string(s).\n",
    "\n",
    "d = Date(2018, 4, 5)\n",
    "print(d)"
   ]
  },
  {
   "cell_type": "code",
   "execution_count": 7,
   "id": "e69076d4",
   "metadata": {},
   "outputs": [
    {
     "name": "stdout",
     "output_type": "stream",
     "text": [
      "name: Kuan\n",
      "birthday (yyyy/mm/dd): 2002/07/15\n",
      "name: Jason\n",
      "birthday (yyyy/mm/dd): 1963/12/17\n",
      "name: \n",
      "Kuan 2002/07/15\n",
      "Jason 1963/12/17\n"
     ]
    }
   ],
   "source": [
    "# Define a function that test if a year is a leap year.\n",
    "def isLeap(year):\n",
    "    if(year % 400 == 0):\n",
    "        return True\n",
    "    elif ((year % 4 == 0) and (year % 100 != 0)):\n",
    "        return True\n",
    "    else:\n",
    "        return False\n",
    "\n",
    "##########################################################################################    \n",
    "# Define a class with methodds. Note that the attributes of the object are not in here.\n",
    "class Date:\n",
    "    def __init__(self, year, month, day, doubleDigit = True): # 1st parameter is always the invoking object itself.\n",
    "        self.year = year\n",
    "        self.month = month\n",
    "        self.day = day\n",
    "        self.doubleDigit = doubleDigit\n",
    "        \n",
    "    # check if year, month, day of the object are correct.\n",
    "    def isValidDate(self):\n",
    "        if((1 <= self.year <= 3000) and (1 <= self.month <= 12)):\n",
    "            daysInMonth = [31,28,31,30,31,30,31,31,30,31,30,31]\n",
    "        if(self.isLeap() == True):  # Note: this has been changed and different from the code above.\n",
    "            daysInMonth[1] = 29\n",
    "        if(1 <= self.day <= daysInMonth[self.month -1]):\n",
    "            return True\n",
    "        return False\n",
    "    \n",
    "    # convert the object into a string in a date format that you like.\n",
    "    def toString(self):\n",
    "        if self.doubleDigit == False:\n",
    "            return str(self.year) + \"/\" + str(self.month) + \"/\" + str(self.day)\n",
    "        else:\n",
    "            dateStr = str(self.year) + \"/\"\n",
    "            dateStr += \"0\" + str(self.month) if self.month < 10 else str(self.month)\n",
    "            dateStr += \"/\"\n",
    "            dateStr += \"0\" + str(self.day) if self.day < 10 else str(self.day)\n",
    "        return dateStr\n",
    "    \n",
    "    # We include isLeap function as a method while we still keep it as a global function.\n",
    "    def isLeap(self):\n",
    "        return isLeap(self.year)\n",
    "    \n",
    "    # We define a method that campare the object with another object.\n",
    "    def isLaterThan(self, aDate):\n",
    "        if self.year > aDate.year:\n",
    "            return True\n",
    "        elif self.year == aDate.year:\n",
    "            if self.month > aDate.month:\n",
    "                return True\n",
    "            elif self.month == aDate.month:\n",
    "                if self.day > aDate.day:\n",
    "                    return True\n",
    "        return False\n",
    "    \n",
    "    def __str__(self):\n",
    "        return self.toString() # You can return any string(s).\n",
    "##################################################################################################\n",
    "    \n",
    "# Define a function that prints out \n",
    "\"\"\"\n",
    "def printBdayDict(bdDict):\n",
    "    for p in bdDict.keys():\n",
    "        b = bdDict[p]\n",
    "        print(p + \" was bron at \" + b.toString())\n",
    "\"\"\"     \n",
    "\n",
    "# You will input a string of birthday. \n",
    "# You create an Date() object and convert the birthday into 3 integers. You create attributes of the object.\n",
    "def strToDate(birthday):  # birthday is a yyyy/mm/dd string\n",
    "    year, month, day = birthday.split(\"/\")\n",
    "    yyyy, mm, dd = int(year), int(month), int(day)\n",
    "    d = Date(yyyy, mm, dd)\n",
    "    return d\n",
    "\n",
    "    \n",
    "# This is the main program: input names and birthdays and store them in a dictionary.\n",
    "bdDict = dict()\n",
    "\n",
    "while True:\n",
    "    name = input(\"name: \")\n",
    "    if name == \"\":\n",
    "        break\n",
    "        \n",
    "    birthday = input(\"birthday (yyyy/mm/dd): \")\n",
    "    birthday = strToDate(birthday)\n",
    "  \n",
    "    if birthday.isValidDate() == True:\n",
    "        bdDict[name] = birthday\n",
    "    else:\n",
    "        print(\"bad date!\")\n",
    "        \n",
    "    if birthday == \"\":  # Jason thinks this is redundent.\n",
    "        break\n",
    "\n",
    "for key in bdDict:\n",
    "    print(key, bdDict[key])"
   ]
  },
  {
   "cell_type": "code",
   "execution_count": 28,
   "id": "c5daeb13",
   "metadata": {},
   "outputs": [
    {
     "name": "stdout",
     "output_type": "stream",
     "text": [
      "5\n",
      "4\n"
     ]
    }
   ],
   "source": [
    "a, b = 5, 4\n",
    "print(a)\n",
    "print(b)"
   ]
  },
  {
   "cell_type": "code",
   "execution_count": 8,
   "id": "e7054238",
   "metadata": {},
   "outputs": [
    {
     "name": "stdout",
     "output_type": "stream",
     "text": [
      "name: Kuan\n",
      "birthday (yyyy/mm/dd): 2002/07/15\n",
      "name: Jason\n",
      "birthday (yyyy/mm/dd): 1963/12/17\n",
      "name: \n",
      "Kuan 2002/07/15\n",
      "Jason 1963/12/17\n"
     ]
    }
   ],
   "source": [
    "# Define a function that test if a year is a leap year.\n",
    "def isLeap(year):\n",
    "    if(year % 400 == 0):\n",
    "        return True\n",
    "    elif ((year % 4 == 0) and (year % 100 != 0)):\n",
    "        return True\n",
    "    else:\n",
    "        return False\n",
    "\n",
    "##########################################################################################    \n",
    "# Define a class with methodds. Note that the attributes of the object are not in here.\n",
    "class Date:\n",
    "    def __init__(self, year, month, day, doubleDigit): # 1st parameter is always the invoking object itself.\n",
    "        self.year = year\n",
    "        self.month = month\n",
    "        self.day = day\n",
    "        self.doubleDigit = doubleDigit\n",
    "        \n",
    "    # check if year, month, day of the object are correct.\n",
    "    def isValidDate(self):\n",
    "        if((1 <= self.year <= 3000) and (1 <= self.month <= 12)):\n",
    "            daysInMonth = [31,28,31,30,31,30,31,31,30,31,30,31]\n",
    "        if(self.isLeap() == True):  # Note: this has been changed and different from the code above.\n",
    "            daysInMonth[1] = 29\n",
    "        if(1 <= self.day <= daysInMonth[self.month -1]):\n",
    "            return True\n",
    "        return False\n",
    "    \n",
    "    # convert the object into a string in a date format that you like.\n",
    "    # You can choose whether to print double- or single- digit\n",
    "    def toString(self):\n",
    "        if self.doubleDigit == False:\n",
    "            return str(self.year) + \"/\" + str(self.month) + \"/\" + str(self.day)\n",
    "        else:\n",
    "            dateStr = str(self.year) + \"/\"\n",
    "            dateStr += \"0\" + str(self.month) if self.month < 10 else str(self.month)\n",
    "            dateStr += \"/\"\n",
    "            dateStr += \"0\" + str(self.day) if self.day < 10 else str(self.day)\n",
    "        return dateStr\n",
    "    \n",
    "    # We include isLeap function as a method while we still keep it as a global function.\n",
    "    def isLeap(self):\n",
    "        return isLeap(self.year)\n",
    "    \n",
    "    # We define a method that campare the object with another object.\n",
    "    def isLaterThan(self, aDate):\n",
    "        if self.year > aDate.year:\n",
    "            return True\n",
    "        elif self.year == aDate.year:\n",
    "            if self.month > aDate.month:\n",
    "                return True\n",
    "            elif self.month == aDate.month:\n",
    "                if self.day > aDate.day:\n",
    "                    return True\n",
    "        return False\n",
    "    \n",
    "    def __str__(self):\n",
    "        return self.toString() # You can return any string(s).\n",
    "##################################################################################################\n",
    "    \n",
    "# Define a function that prints out \n",
    "\"\"\"\n",
    "def printBdayDict(bdDict):\n",
    "    for p in bdDict.keys():\n",
    "        b = bdDict[p]\n",
    "        print(p + \" was bron at \" + b.toString())\n",
    "\"\"\"     \n",
    "\n",
    "# You will input a string of birthday. \n",
    "# You create an Date() object and convert the birthday into 3 integers. You create attributes of the object.\n",
    "def strToDate(birthday, DD):  # birthday is a yyyy/mm/dd string\n",
    "    year, month, day = birthday.split(\"/\")\n",
    "    yyyy, mm, dd = int(year), int(month), int(day)\n",
    "    d = Date(yyyy, mm, dd, DD)\n",
    "    return d\n",
    "\n",
    "    \n",
    "# This is the main program: input names and birthdays and store them in a dictionary.\n",
    "bdDict = dict()\n",
    "\n",
    "while True:\n",
    "    name = input(\"name: \")\n",
    "    if name == \"\":\n",
    "        break\n",
    "        \n",
    "    birthday = input(\"birthday (yyyy/mm/dd): \")\n",
    "    birthday = strToDate(birthday, True)\n",
    "   \n",
    "    if birthday.isValidDate() == True:\n",
    "        bdDict[name] = birthday\n",
    "    else:\n",
    "        print(\"bad date!\")\n",
    "        \n",
    "    if birthday == \"\":  # Jason thinks this is redundent.\n",
    "        break\n",
    "\n",
    "for key in bdDict:\n",
    "    print(key, bdDict[key])"
   ]
  },
  {
   "cell_type": "code",
   "execution_count": 9,
   "id": "7fc02552",
   "metadata": {},
   "outputs": [
    {
     "name": "stdout",
     "output_type": "stream",
     "text": [
      "name: Kuan\n",
      "birthday (yyyy/mm/dd): 2002/07/15\n",
      "name: Jason\n",
      "birthday (yyyy/mm/dd): 1963/12/17\n",
      "name: \n",
      "Kuan 2002/7/15\n",
      "Jason 1963/12/17\n"
     ]
    }
   ],
   "source": [
    "# Define a function that test if a year is a leap year.\n",
    "def isLeap(year):\n",
    "    if(year % 400 == 0):\n",
    "        return True\n",
    "    elif ((year % 4 == 0) and (year % 100 != 0)):\n",
    "        return True\n",
    "    else:\n",
    "        return False\n",
    "\n",
    "##########################################################################################    \n",
    "# Define a class with methodds. Note that the attributes of the object are not in here.\n",
    "class Date:\n",
    "    def __init__(self, year, month, day, doubleDigit): # 1st parameter is always the invoking object itself.\n",
    "        self.year = year\n",
    "        self.month = month\n",
    "        self.day = day\n",
    "        self.doubleDigit = doubleDigit\n",
    "        \n",
    "    # check if year, month, day of the object are correct.\n",
    "    def isValidDate(self):\n",
    "        if((1 <= self.year <= 3000) and (1 <= self.month <= 12)):\n",
    "            daysInMonth = [31,28,31,30,31,30,31,31,30,31,30,31]\n",
    "        if(self.isLeap() == True):  # Note: this has been changed and different from the code above.\n",
    "            daysInMonth[1] = 29\n",
    "        if(1 <= self.day <= daysInMonth[self.month -1]):\n",
    "            return True\n",
    "        return False\n",
    "    \n",
    "    # convert the object into a string in a date format that you like.\n",
    "    def toString(self):\n",
    "        if self.doubleDigit == False:\n",
    "            return str(self.year) + \"/\" + str(self.month) + \"/\" + str(self.day)\n",
    "        else:\n",
    "            dateStr = str(self.year) + \"/\"\n",
    "            dateStr += \"0\" + str(self.month) if self.month < 10 else str(self.month)\n",
    "            dateStr += \"/\"\n",
    "            dateStr += \"0\" + str(self.day) if self.day < 10 else str(self.day)\n",
    "        return dateStr\n",
    "    \n",
    "    # We include isLeap function as a method while we still keep it as a global function.\n",
    "    def isLeap(self):\n",
    "        return isLeap(self.year)\n",
    "    \n",
    "    # We define a method that campare the object with another object.\n",
    "    def isLaterThan(self, aDate):\n",
    "        if self.year > aDate.year:\n",
    "            return True\n",
    "        elif self.year == aDate.year:\n",
    "            if self.month > aDate.month:\n",
    "                return True\n",
    "            elif self.month == aDate.month:\n",
    "                if self.day > aDate.day:\n",
    "                    return True\n",
    "        return False\n",
    "    \n",
    "    def __str__(self):\n",
    "        return self.toString() # You can return any string(s).\n",
    "##################################################################################################\n",
    "    \n",
    "# Define a function that prints out \n",
    "\"\"\"\n",
    "def printBdayDict(bdDict):\n",
    "    for p in bdDict.keys():\n",
    "        b = bdDict[p]\n",
    "        print(p + \" was bron at \" + b.toString())\n",
    "\"\"\"     \n",
    "\n",
    "# You will input a string of birthday. \n",
    "# You create an Date() object and convert the birthday into 3 integers. You create attributes of the object.\n",
    "def strToDate(birthday, DD):  # birthday is a yyyy/mm/dd string\n",
    "    year, month, day = birthday.split(\"/\")\n",
    "    yyyy, mm, dd = int(year), int(month), int(day)\n",
    "    d = Date(yyyy, mm, dd, DD)\n",
    "    return d\n",
    "\n",
    "    \n",
    "# This is the main program: input names and birthdays and store them in a dictionary.\n",
    "bdDict = dict()\n",
    "\n",
    "while True:\n",
    "    name = input(\"name: \")\n",
    "    if name == \"\":\n",
    "        break\n",
    "        \n",
    "    birthday = input(\"birthday (yyyy/mm/dd): \")\n",
    "    birthday = strToDate(birthday, False)\n",
    "   \n",
    "    if birthday.isValidDate() == True:\n",
    "        bdDict[name] = birthday\n",
    "    else:\n",
    "        print(\"bad date!\")\n",
    "        \n",
    "    if birthday == \"\":  # Jason thinks this is redundent.\n",
    "        break\n",
    "\n",
    "for key in bdDict:\n",
    "    print(key, bdDict[key])"
   ]
  },
  {
   "cell_type": "markdown",
   "id": "786249ca",
   "metadata": {},
   "source": [
    "### In some cases, an attribute (or property) should belong to a class and is shared by all objects of the class. Double or single digit is such an attribute as this becasue all the objects should be in the same format.\n",
    "### We declare static variables for class-specific attributes, just like declaring instance variables for object-specific attributes.\n",
    "### Both static variables and instance variables are called member variables."
   ]
  },
  {
   "cell_type": "markdown",
   "id": "12a11d0b",
   "metadata": {},
   "source": [
    "* Note the change in the line right below class Date:\n",
    "* Note the change in def toString(self):"
   ]
  },
  {
   "cell_type": "code",
   "execution_count": 12,
   "id": "56c8e769",
   "metadata": {},
   "outputs": [
    {
     "name": "stdout",
     "output_type": "stream",
     "text": [
      "name: Kuan\n",
      "birthday (yyyy/mm/dd): 2002/07/15\n",
      "name: Jason\n",
      "birthday (yyyy/mm/dd): 1963/12/17\n",
      "name: \n",
      "Kuan 2002/7/15\n",
      "Jason 1963/12/17\n"
     ]
    }
   ],
   "source": [
    "# Define a function that test if a year is a leap year.\n",
    "def isLeap(year):\n",
    "    if(year % 400 == 0):\n",
    "        return True\n",
    "    elif ((year % 4 == 0) and (year % 100 != 0)):\n",
    "        return True\n",
    "    else:\n",
    "        return False\n",
    "\n",
    "##########################################################################################    \n",
    "# Define a class with methodds. Note that the attributes of the object are not in here.\n",
    "class Date:\n",
    "    doubleDigit = False\n",
    "    def __init__(self, year, month, day): # 1st parameter is always the invoking object itself.\n",
    "        self.year = year\n",
    "        self.month = month\n",
    "        self.day = day\n",
    "        \n",
    "    # check if year, month, day of the object are correct.\n",
    "    def isValidDate(self):\n",
    "        if((1 <= self.year <= 3000) and (1 <= self.month <= 12)):\n",
    "            daysInMonth = [31,28,31,30,31,30,31,31,30,31,30,31]\n",
    "        if(self.isLeap() == True):  # Note: this has been changed and different from the code above.\n",
    "            daysInMonth[1] = 29\n",
    "        if(1 <= self.day <= daysInMonth[self.month -1]):\n",
    "            return True\n",
    "        return False\n",
    "    \n",
    "    # convert the object into a string in a date format that you like.\n",
    "    def toString(self):\n",
    "        if Date.doubleDigit == False:\n",
    "            return str(self.year) + \"/\" + str(self.month) + \"/\" + str(self.day)\n",
    "        else:\n",
    "            dateStr = str(self.year) + \"/\"\n",
    "            dateStr += \"0\" + str(self.month) if self.month < 10 else str(self.month)\n",
    "            dateStr += \"/\"\n",
    "            dateStr += \"0\" + str(self.day) if self.day < 10 else str(self.day)\n",
    "        return dateStr\n",
    "    \n",
    "    # We include isLeap function as a method while we still keep it as a global function.\n",
    "    def isLeap(self):\n",
    "        return isLeap(self.year)\n",
    "    \n",
    "    # We define a method that campare the object with another object.\n",
    "    def isLaterThan(self, aDate):\n",
    "        if self.year > aDate.year:\n",
    "            return True\n",
    "        elif self.year == aDate.year:\n",
    "            if self.month > aDate.month:\n",
    "                return True\n",
    "            elif self.month == aDate.month:\n",
    "                if self.day > aDate.day:\n",
    "                    return True\n",
    "        return False\n",
    "    \n",
    "    def __str__(self):\n",
    "        return self.toString() # You can return any string(s).\n",
    "##################################################################################################\n",
    "    \n",
    "# Define a function that prints out \n",
    "\"\"\"\n",
    "def printBdayDict(bdDict):\n",
    "    for p in bdDict.keys():\n",
    "        b = bdDict[p]\n",
    "        print(p + \" was bron at \" + b.toString())\n",
    "\"\"\"     \n",
    "\n",
    "# You will input a string of birthday. \n",
    "# You create an Date() object and convert the birthday into 3 integers. You create attributes of the object.\n",
    "def strToDate(birthday):  # birthday is a yyyy/mm/dd string\n",
    "    year, month, day = birthday.split(\"/\")\n",
    "    yyyy, mm, dd = int(year), int(month), int(day)\n",
    "    d = Date(yyyy, mm, dd)\n",
    "    return d\n",
    "\n",
    "    \n",
    "# This is the main program: input names and birthdays and store them in a dictionary.\n",
    "bdDict = dict()\n",
    "\n",
    "while True:\n",
    "    name = input(\"name: \")\n",
    "    if name == \"\":\n",
    "        break\n",
    "        \n",
    "    birthday = input(\"birthday (yyyy/mm/dd): \")\n",
    "    birthday = strToDate(birthday)\n",
    "   \n",
    "    if birthday.isValidDate() == True:\n",
    "        bdDict[name] = birthday\n",
    "    else:\n",
    "        print(\"bad date!\")\n",
    "        \n",
    "    if birthday == \"\":  # Jason thinks this is redundent.\n",
    "        break\n",
    "\n",
    "for key in bdDict:\n",
    "    print(key, bdDict[key])"
   ]
  },
  {
   "cell_type": "code",
   "execution_count": 13,
   "id": "f7dfce53",
   "metadata": {},
   "outputs": [
    {
     "name": "stdout",
     "output_type": "stream",
     "text": [
      "2018/4/5\n"
     ]
    }
   ],
   "source": [
    "d6 = Date(2018, 4, 5)\n",
    "print(d6)"
   ]
  },
  {
   "cell_type": "code",
   "execution_count": 15,
   "id": "fc8159aa",
   "metadata": {},
   "outputs": [
    {
     "name": "stdout",
     "output_type": "stream",
     "text": [
      "2018/04/05\n"
     ]
    }
   ],
   "source": [
    "# You don't have to go to class Date: to change it. You can write a line of code to change it.\n",
    "Date.doubleDigit = True   # Do Not put doubleDigit = True \n",
    "d7 = Date(2018, 4, 5)\n",
    "print(d7)"
   ]
  },
  {
   "cell_type": "markdown",
   "id": "77f6dc44",
   "metadata": {},
   "source": [
    "## Static Functions"
   ]
  },
  {
   "cell_type": "markdown",
   "id": "48023fbe",
   "metadata": {},
   "source": [
    "### They are defined in the class with no invoking object (as a parameter). 不應由一個 object 來呼叫\n",
    "### They cannot access instance variables.\n",
    "### Static function and instance functions are both called member functions."
   ]
  },
  {
   "cell_type": "code",
   "execution_count": 16,
   "id": "7d9323f8",
   "metadata": {},
   "outputs": [],
   "source": [
    "# Let's create a static function to modify doubleDigit.\n",
    "# @ staticmethod is a decorator.\n",
    "# d.setDoubleDigit(True) also works, but we should not use this."
   ]
  },
  {
   "cell_type": "code",
   "execution_count": 3,
   "id": "09c043b7",
   "metadata": {},
   "outputs": [
    {
     "name": "stdout",
     "output_type": "stream",
     "text": [
      "name: Kuan\n",
      "birthday (yyyy/mm/dd): 2002/07/15\n",
      "name: Jason\n",
      "birthday (yyyy/mm/dd): 1963/12/17\n",
      "name: \n",
      "Kuan 2002/7/15\n",
      "Jason 1963/12/17\n"
     ]
    }
   ],
   "source": [
    "# Define a function that test if a year is a leap year.\n",
    "def isLeap(year):\n",
    "    if(year % 400 == 0):\n",
    "        return True\n",
    "    elif ((year % 4 == 0) and (year % 100 != 0)):\n",
    "        return True\n",
    "    else:\n",
    "        return False\n",
    "\n",
    "##########################################################################################    \n",
    "# Define a class with methodds. Note that the attributes of the object are not in here.\n",
    "class Date:\n",
    "    doubleDigit = False  # An initial value needs to be set up.\n",
    "    \n",
    "    @staticmethod\n",
    "    def setDoubleDigit(dd):\n",
    "        Date.doubleDigit = dd  # update Date.doubleDigit based on the argument passed to the static function.\n",
    "        \n",
    "    def __init__(self, year, month, day): # 1st parameter is always the invoking object itself.\n",
    "        self.year = year\n",
    "        self.month = month\n",
    "        self.day = day\n",
    "        \n",
    "    # check if year, month, day of the object are correct.\n",
    "    def isValidDate(self):\n",
    "        if((1 <= self.year <= 3000) and (1 <= self.month <= 12)):\n",
    "            daysInMonth = [31,28,31,30,31,30,31,31,30,31,30,31]\n",
    "        if(self.isLeap() == True):  # Note: this has been changed and different from the code above.\n",
    "            daysInMonth[1] = 29\n",
    "        if(1 <= self.day <= daysInMonth[self.month -1]):\n",
    "            return True\n",
    "        return False\n",
    "    \n",
    "    # convert the object into a string in a date format that you like.\n",
    "    def toString(self):\n",
    "        if Date.doubleDigit == False:\n",
    "            return str(self.year) + \"/\" + str(self.month) + \"/\" + str(self.day)\n",
    "        else:\n",
    "            dateStr = str(self.year) + \"/\"\n",
    "            dateStr += \"0\" + str(self.month) if self.month < 10 else str(self.month)\n",
    "            dateStr += \"/\"\n",
    "            dateStr += \"0\" + str(self.day) if self.day < 10 else str(self.day)\n",
    "        return dateStr\n",
    "    \n",
    "    # We include isLeap function as a method while we still keep it as a global function.\n",
    "    def isLeap(self):\n",
    "        return isLeap(self.year)\n",
    "    \n",
    "    # We define a method that campare the object with another object.\n",
    "    def isLaterThan(self, aDate):\n",
    "        if self.year > aDate.year:\n",
    "            return True\n",
    "        elif self.year == aDate.year:\n",
    "            if self.month > aDate.month:\n",
    "                return True\n",
    "            elif self.month == aDate.month:\n",
    "                if self.day > aDate.day:\n",
    "                    return True\n",
    "        return False\n",
    "    \n",
    "    def __str__(self):\n",
    "        return self.toString() # You can return any string(s).\n",
    "##################################################################################################\n",
    "    \n",
    "# Define a function that prints out \n",
    "\"\"\"\n",
    "def printBdayDict(bdDict):\n",
    "    for p in bdDict.keys():\n",
    "        b = bdDict[p]\n",
    "        print(p + \" was bron at \" + b.toString())\n",
    "\"\"\"     \n",
    "\n",
    "# You will input a string of birthday. \n",
    "# You create an Date() object and convert the birthday into 3 integers. You create attributes of the object.\n",
    "def strToDate(birthday):  # birthday is a yyyy/mm/dd string\n",
    "    year, month, day = birthday.split(\"/\")\n",
    "    yyyy, mm, dd = int(year), int(month), int(day)\n",
    "    d = Date(yyyy, mm, dd)\n",
    "    return d\n",
    "\n",
    "    \n",
    "# This is the main program: input names and birthdays and store them in a dictionary.\n",
    "bdDict = dict()\n",
    "\n",
    "while True:\n",
    "    name = input(\"name: \")\n",
    "    if name == \"\":\n",
    "        break\n",
    "        \n",
    "    birthday = input(\"birthday (yyyy/mm/dd): \")\n",
    "    birthday = strToDate(birthday)\n",
    "   \n",
    "    if birthday.isValidDate() == True:\n",
    "        bdDict[name] = birthday\n",
    "    else:\n",
    "        print(\"bad date!\")\n",
    "        \n",
    "    if birthday == \"\":  # Jason thinks this is redundent.\n",
    "        break\n",
    "\n",
    "for key in bdDict:\n",
    "    print(key, bdDict[key])"
   ]
  },
  {
   "cell_type": "code",
   "execution_count": 5,
   "id": "3840d6c3",
   "metadata": {},
   "outputs": [
    {
     "name": "stdout",
     "output_type": "stream",
     "text": [
      "2010/08/01\n"
     ]
    }
   ],
   "source": [
    "Date.setDoubleDigit(True)\n",
    "d9 = Date(2010, 8, 1)\n",
    "print(d9)"
   ]
  },
  {
   "cell_type": "code",
   "execution_count": 10,
   "id": "b090cccc",
   "metadata": {},
   "outputs": [],
   "source": [
    "## class Date: #################################################################"
   ]
  },
  {
   "cell_type": "code",
   "execution_count": 6,
   "id": "dbd2fa98",
   "metadata": {},
   "outputs": [],
   "source": [
    "class Date:\n",
    "    doubleDigit = False\n",
    "    def __init__(self, year, month, day): # 1st parameter is always the invoking object itself.\n",
    "        self.year = year\n",
    "        self.month = month\n",
    "        self.day = day\n",
    "        \n",
    "    # check if year, month, day of the object are correct.\n",
    "    def isValidDate(self):\n",
    "        if((1 <= self.year <= 3000) and (1 <= self.month <= 12)):\n",
    "            daysInMonth = [31,28,31,30,31,30,31,31,30,31,30,31]\n",
    "        if(self.isLeap() == True):  # Note: this has been changed and different from the code above.\n",
    "            daysInMonth[1] = 29\n",
    "        if(1 <= self.day <= daysInMonth[self.month -1]):\n",
    "            return True\n",
    "        return False\n",
    "    \n",
    "    # convert the object into a string in a date format that you like.\n",
    "    def toString(self):\n",
    "        if Date.doubleDigit == False:\n",
    "            return str(self.year) + \"/\" + str(self.month) + \"/\" + str(self.day)\n",
    "        else:\n",
    "            dateStr = str(self.year) + \"/\"\n",
    "            dateStr += \"0\" + str(self.month) if self.month < 10 else str(self.month)\n",
    "            dateStr += \"/\"\n",
    "            dateStr += \"0\" + str(self.day) if self.day < 10 else str(self.day)\n",
    "        return dateStr\n",
    "    \n",
    "    # We include isLeap function as a method while we still keep it as a global function.\n",
    "    def isLeap(self):\n",
    "        return isLeap(self.year)\n",
    "    \n",
    "    # We define a method that campare the object with another object.\n",
    "    def isLaterThan(self, aDate):\n",
    "        if self.year > aDate.year:\n",
    "            return True\n",
    "        elif self.year == aDate.year:\n",
    "            if self.month > aDate.month:\n",
    "                return True\n",
    "            elif self.month == aDate.month:\n",
    "                if self.day > aDate.day:\n",
    "                    return True\n",
    "        return False\n",
    "    \n",
    "    def __str__(self):\n",
    "        return self.toString() # You can return any string(s)."
   ]
  },
  {
   "cell_type": "code",
   "execution_count": 7,
   "id": "6aaab657",
   "metadata": {},
   "outputs": [
    {
     "name": "stdout",
     "output_type": "stream",
     "text": [
      "2002/7/15\n"
     ]
    }
   ],
   "source": [
    "Kuan = Date(2002, 7, 15)\n",
    "print(Kuan)"
   ]
  },
  {
   "cell_type": "code",
   "execution_count": 9,
   "id": "689e4048",
   "metadata": {},
   "outputs": [
    {
     "name": "stdout",
     "output_type": "stream",
     "text": [
      "<class '__main__.Date'>\n"
     ]
    }
   ],
   "source": [
    "print(type(Kuan))"
   ]
  },
  {
   "cell_type": "code",
   "execution_count": 11,
   "id": "e2dcc66b",
   "metadata": {},
   "outputs": [
    {
     "name": "stdout",
     "output_type": "stream",
     "text": [
      "<class 'int'>\n"
     ]
    }
   ],
   "source": [
    "print(type(2))"
   ]
  },
  {
   "cell_type": "code",
   "execution_count": null,
   "id": "69c9da3d",
   "metadata": {},
   "outputs": [],
   "source": []
  }
 ],
 "metadata": {
  "kernelspec": {
   "display_name": "Python 3 (ipykernel)",
   "language": "python",
   "name": "python3"
  },
  "language_info": {
   "codemirror_mode": {
    "name": "ipython",
    "version": 3
   },
   "file_extension": ".py",
   "mimetype": "text/x-python",
   "name": "python",
   "nbconvert_exporter": "python",
   "pygments_lexer": "ipython3",
   "version": "3.9.7"
  }
 },
 "nbformat": 4,
 "nbformat_minor": 5
}
